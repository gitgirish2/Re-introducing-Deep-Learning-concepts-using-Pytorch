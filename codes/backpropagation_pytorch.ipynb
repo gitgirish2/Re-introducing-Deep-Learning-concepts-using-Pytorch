{
  "nbformat": 4,
  "nbformat_minor": 0,
  "metadata": {
    "colab": {
      "name": "backpropagation_pytorch",
      "version": "0.3.2",
      "provenance": [],
      "collapsed_sections": []
    },
    "kernelspec": {
      "name": "python3",
      "display_name": "Python 3"
    }
  },
  "cells": [
    {
      "cell_type": "code",
      "metadata": {
        "id": "BjCTFJ6POfDs",
        "colab_type": "code",
        "colab": {}
      },
      "source": [
        "# http://pytorch.org/\n",
        "from os import path\n",
        "from wheel.pep425tags import get_abbr_impl, get_impl_ver, get_abi_tag\n",
        "platform = '{}{}-{}'.format(get_abbr_impl(), get_impl_ver(), get_abi_tag())\n",
        "\n",
        "accelerator = 'cu80' if path.exists('/opt/bin/nvidia-smi') else 'cpu'\n",
        "\n",
        "!pip install -q http://download.pytorch.org/whl/{accelerator}/torch-0.3.0.post4-{platform}-linux_x86_64.whl torchvision\n",
        "import torch"
      ],
      "execution_count": 0,
      "outputs": []
    },
    {
      "cell_type": "code",
      "metadata": {
        "id": "wtx-unGVOvSY",
        "colab_type": "code",
        "colab": {}
      },
      "source": [
        "import torch\n",
        "from torch.autograd import Variable"
      ],
      "execution_count": 0,
      "outputs": []
    },
    {
      "cell_type": "code",
      "metadata": {
        "id": "MaHNXAyIO7E-",
        "colab_type": "code",
        "colab": {}
      },
      "source": [
        "#Assigning values to Tensors\n",
        "x_data = [1.0, 2.0, 3.0]\n",
        "y_data = [2.0, 4.0, 6.0]"
      ],
      "execution_count": 0,
      "outputs": []
    },
    {
      "cell_type": "code",
      "metadata": {
        "id": "_4PRzxclPBGw",
        "colab_type": "code",
        "colab": {}
      },
      "source": [
        "#Random weight value, for automatic weight allocation\n",
        "w = Variable(torch.Tensor([1.0]), requires_grad=True)"
      ],
      "execution_count": 0,
      "outputs": []
    },
    {
      "cell_type": "code",
      "metadata": {
        "id": "vVU702QYPXfc",
        "colab_type": "code",
        "colab": {}
      },
      "source": [
        "#forward pass\n",
        "def forward(x):\n",
        "    return x * w"
      ],
      "execution_count": 0,
      "outputs": []
    },
    {
      "cell_type": "code",
      "metadata": {
        "id": "baSSN04VPcGH",
        "colab_type": "code",
        "colab": {}
      },
      "source": [
        "#Loss function\n",
        "def loss(x, y):\n",
        "    y_pred = forward(x)\n",
        "    return (y_pred - y) * (y_pred - y)"
      ],
      "execution_count": 0,
      "outputs": []
    },
    {
      "cell_type": "code",
      "metadata": {
        "id": "ccc6oDjTPhxW",
        "colab_type": "code",
        "outputId": "c34bd49b-64f5-488c-8053-7c4da7cd9a75",
        "colab": {
          "base_uri": "https://localhost:8080/",
          "height": 35
        }
      },
      "source": [
        "#Testing before training\n",
        "print(\"predict (before training)\",  4, forward(4).data[0])"
      ],
      "execution_count": 0,
      "outputs": [
        {
          "output_type": "stream",
          "text": [
            "predict (before training) 4 4.0\n"
          ],
          "name": "stdout"
        }
      ]
    },
    {
      "cell_type": "code",
      "metadata": {
        "id": "z3SyjTVgPn-m",
        "colab_type": "code",
        "outputId": "fbdb12b5-6721-46c5-883f-1699a7458260",
        "colab": {
          "base_uri": "https://localhost:8080/",
          "height": 711
        }
      },
      "source": [
        "# Training\n",
        "for epoch in range(10):\n",
        "    for x_val, y_val in zip(x_data, y_data):\n",
        "        l = loss(x_val, y_val)\n",
        "        l.backward()\n",
        "        print(\"grad: \", x_val, y_val, w.grad.data[0])\n",
        "        w.data = w.data - 0.01 * w.grad.data\n",
        "\n",
        "        # Manually zero the gradients after updating weights\n",
        "        w.grad.data.zero_()\n",
        "\n",
        "    print(\"progress:\", epoch, l.data[0])\n"
      ],
      "execution_count": 0,
      "outputs": [
        {
          "output_type": "stream",
          "text": [
            "grad:  1.0 2.0 -2.0\n",
            "grad:  2.0 4.0 -7.840000152587891\n",
            "grad:  3.0 6.0 -16.228801727294922\n",
            "progress: 0 7.315943717956543\n",
            "grad:  1.0 2.0 -1.478623867034912\n",
            "grad:  2.0 4.0 -5.796205520629883\n",
            "grad:  3.0 6.0 -11.998146057128906\n",
            "progress: 1 3.9987640380859375\n",
            "grad:  1.0 2.0 -1.0931644439697266\n",
            "grad:  2.0 4.0 -4.285204887390137\n",
            "grad:  3.0 6.0 -8.870372772216797\n",
            "progress: 2 2.1856532096862793\n",
            "grad:  1.0 2.0 -0.8081896305084229\n",
            "grad:  2.0 4.0 -3.1681032180786133\n",
            "grad:  3.0 6.0 -6.557973861694336\n",
            "progress: 3 1.1946394443511963\n",
            "grad:  1.0 2.0 -0.5975041389465332\n",
            "grad:  2.0 4.0 -2.3422164916992188\n",
            "grad:  3.0 6.0 -4.848389625549316\n",
            "progress: 4 0.6529689431190491\n",
            "grad:  1.0 2.0 -0.4417421817779541\n",
            "grad:  2.0 4.0 -1.7316293716430664\n",
            "grad:  3.0 6.0 -3.58447265625\n",
            "progress: 5 0.35690122842788696\n",
            "grad:  1.0 2.0 -0.3265852928161621\n",
            "grad:  2.0 4.0 -1.2802143096923828\n",
            "grad:  3.0 6.0 -2.650045394897461\n",
            "progress: 6 0.195076122879982\n",
            "grad:  1.0 2.0 -0.24144840240478516\n",
            "grad:  2.0 4.0 -0.9464778900146484\n",
            "grad:  3.0 6.0 -1.9592113494873047\n",
            "progress: 7 0.10662525147199631\n",
            "grad:  1.0 2.0 -0.17850565910339355\n",
            "grad:  2.0 4.0 -0.699742317199707\n",
            "grad:  3.0 6.0 -1.4484672546386719\n",
            "progress: 8 0.0582793727517128\n",
            "grad:  1.0 2.0 -0.1319713592529297\n",
            "grad:  2.0 4.0 -0.5173273086547852\n",
            "grad:  3.0 6.0 -1.070866584777832\n",
            "progress: 9 0.03185431286692619\n"
          ],
          "name": "stdout"
        }
      ]
    },
    {
      "cell_type": "code",
      "metadata": {
        "id": "iP23EJtkP9FO",
        "colab_type": "code",
        "outputId": "b497b2b3-1eaf-47f6-de8f-cf24474e5057",
        "colab": {
          "base_uri": "https://localhost:8080/",
          "height": 35
        }
      },
      "source": [
        "#Testing after training\n",
        "print(\"predict (after training)\",  4, forward(4).data[0])"
      ],
      "execution_count": 0,
      "outputs": [
        {
          "output_type": "stream",
          "text": [
            "predict (after training) 4 7.804864406585693\n"
          ],
          "name": "stdout"
        }
      ]
    }
  ]
}