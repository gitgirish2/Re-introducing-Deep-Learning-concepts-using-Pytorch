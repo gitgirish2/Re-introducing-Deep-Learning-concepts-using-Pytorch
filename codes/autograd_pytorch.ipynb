{
  "nbformat": 4,
  "nbformat_minor": 0,
  "metadata": {
    "colab": {
      "name": "autograd_pytorch",
      "version": "0.3.2",
      "provenance": []
    },
    "kernelspec": {
      "name": "python3",
      "display_name": "Python 3"
    }
  },
  "cells": [
    {
      "cell_type": "code",
      "metadata": {
        "id": "_i4EwSg12Ft-",
        "colab_type": "code",
        "colab": {}
      },
      "source": [
        "# http://pytorch.org/\n",
        "from os import path\n",
        "from wheel.pep425tags import get_abbr_impl, get_impl_ver, get_abi_tag\n",
        "platform = '{}{}-{}'.format(get_abbr_impl(), get_impl_ver(), get_abi_tag())\n",
        "\n",
        "accelerator = 'cu80' if path.exists('/opt/bin/nvidia-smi') else 'cpu'\n",
        "\n",
        "!pip install -q http://download.pytorch.org/whl/{accelerator}/torch-0.3.0.post4-{platform}-linux_x86_64.whl torchvision\n",
        "import torch"
      ],
      "execution_count": 0,
      "outputs": []
    },
    {
      "cell_type": "code",
      "metadata": {
        "id": "Pec6NtH83xn5",
        "colab_type": "code",
        "colab": {}
      },
      "source": [
        "import torch\n",
        "from torch import autograd"
      ],
      "execution_count": 0,
      "outputs": []
    },
    {
      "cell_type": "code",
      "metadata": {
        "id": "5YaaIJtD4PUw",
        "colab_type": "code",
        "outputId": "b48e6e9f-2431-4895-a9a1-b893fb4e79e7",
        "colab": {
          "base_uri": "https://localhost:8080/",
          "height": 69
        }
      },
      "source": [
        "torch.rand(1,3)\n",
        "autograd.Variable(torch.rand(1,3))"
      ],
      "execution_count": 0,
      "outputs": [
        {
          "output_type": "execute_result",
          "data": {
            "text/plain": [
              "Variable containing:\n",
              " 0.7602  0.3077  0.5836\n",
              "[torch.FloatTensor of size 1x3]"
            ]
          },
          "metadata": {
            "tags": []
          },
          "execution_count": 15
        }
      ]
    },
    {
      "cell_type": "markdown",
      "metadata": {
        "id": "OtrE0ODs-Ara",
        "colab_type": "text"
      },
      "source": [
        "# *Some Common properties similar to tensor*"
      ]
    },
    {
      "cell_type": "code",
      "metadata": {
        "id": "1x9tiqn55N24",
        "colab_type": "code",
        "outputId": "4ae635bd-2f96-4856-e91c-e5d02df88904",
        "colab": {
          "base_uri": "https://localhost:8080/",
          "height": 69
        }
      },
      "source": [
        "#Variable operations\n",
        "x = autograd.Variable(torch.rand(1,3))\n",
        "x += 1\n",
        "x"
      ],
      "execution_count": 0,
      "outputs": [
        {
          "output_type": "execute_result",
          "data": {
            "text/plain": [
              "Variable containing:\n",
              " 1.0921  1.2254  1.8021\n",
              "[torch.FloatTensor of size 1x3]"
            ]
          },
          "metadata": {
            "tags": []
          },
          "execution_count": 16
        }
      ]
    },
    {
      "cell_type": "code",
      "metadata": {
        "id": "fFgi3FyJ8sge",
        "colab_type": "code",
        "outputId": "f3af6e3c-9d14-4dea-ad74-b99e2a4c981f",
        "colab": {
          "base_uri": "https://localhost:8080/",
          "height": 69
        }
      },
      "source": [
        "x *= 2\n",
        "x"
      ],
      "execution_count": 0,
      "outputs": [
        {
          "output_type": "execute_result",
          "data": {
            "text/plain": [
              "Variable containing:\n",
              " 2.1842  2.4508  3.6042\n",
              "[torch.FloatTensor of size 1x3]"
            ]
          },
          "metadata": {
            "tags": []
          },
          "execution_count": 17
        }
      ]
    },
    {
      "cell_type": "markdown",
      "metadata": {
        "id": "3jz5NroY-NxX",
        "colab_type": "text"
      },
      "source": [
        "# *Some additional properties *"
      ]
    },
    {
      "cell_type": "code",
      "metadata": {
        "id": "dSSm3YPc94Tw",
        "colab_type": "code",
        "outputId": "869c901d-00ee-4ac4-bd14-65d911734b53",
        "colab": {
          "base_uri": "https://localhost:8080/",
          "height": 69
        }
      },
      "source": [
        "#grad\n",
        "x = autograd.Variable(torch.rand(1,3))\n",
        "x.grad\n",
        "x"
      ],
      "execution_count": 0,
      "outputs": [
        {
          "output_type": "execute_result",
          "data": {
            "text/plain": [
              "Variable containing:\n",
              " 0.6157  0.9575  0.6228\n",
              "[torch.FloatTensor of size 1x3]"
            ]
          },
          "metadata": {
            "tags": []
          },
          "execution_count": 18
        }
      ]
    }
  ]
}