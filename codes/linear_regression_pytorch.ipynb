{
  "nbformat": 4,
  "nbformat_minor": 0,
  "metadata": {
    "colab": {
      "name": "linear_regression_pytorch",
      "version": "0.3.2",
      "provenance": [],
      "collapsed_sections": []
    },
    "kernelspec": {
      "name": "python3",
      "display_name": "Python 3"
    }
  },
  "cells": [
    {
      "cell_type": "code",
      "metadata": {
        "id": "FJoYuzlsTpEO",
        "colab_type": "code",
        "colab": {}
      },
      "source": [
        "# http://pytorch.org/\n",
        "from os import path\n",
        "from wheel.pep425tags import get_abbr_impl, get_impl_ver, get_abi_tag\n",
        "platform = '{}{}-{}'.format(get_abbr_impl(), get_impl_ver(), get_abi_tag())\n",
        "\n",
        "accelerator = 'cu80' if path.exists('/opt/bin/nvidia-smi') else 'cpu'\n",
        "\n",
        "!pip install -q http://download.pytorch.org/whl/{accelerator}/torch-0.3.0.post4-{platform}-linux_x86_64.whl torchvision\n",
        "import torch"
      ],
      "execution_count": 0,
      "outputs": []
    },
    {
      "cell_type": "code",
      "metadata": {
        "id": "Ds7WHomBU-Yv",
        "colab_type": "code",
        "colab": {}
      },
      "source": [
        "import torch\n",
        "from torch.autograd import Variable\n",
        "import torch.nn as nn\n",
        "import torch.optim as optim"
      ],
      "execution_count": 0,
      "outputs": []
    },
    {
      "cell_type": "code",
      "metadata": {
        "id": "xYXVEYb-YeE-",
        "colab_type": "code",
        "colab": {}
      },
      "source": [
        "#creating data\n",
        "x = Variable(torch.Tensor([[1],[2],[3],[4]]))\n",
        "y = Variable(torch.Tensor([[2],[4],[6],[8]]))"
      ],
      "execution_count": 0,
      "outputs": []
    },
    {
      "cell_type": "code",
      "metadata": {
        "id": "6CdXsLnJY1_T",
        "colab_type": "code",
        "colab": {}
      },
      "source": [
        "#creating the model class\n",
        "class LinearReg(nn.Module):\n",
        "  def __init__(self, input_size, output_size):\n",
        "    super(LinearReg, self).__init__()\n",
        "    self.linear = nn.Linear(input_size, output_size)"
      ],
      "execution_count": 0,
      "outputs": []
    },
    {
      "cell_type": "code",
      "metadata": {
        "id": "o-XgSO7rZ574",
        "colab_type": "code",
        "colab": {}
      },
      "source": [
        "#defining forward pass\n",
        "def forward(self, x):\n",
        "  y_pred = self.linear(x)\n",
        "  return y_pred"
      ],
      "execution_count": 0,
      "outputs": []
    },
    {
      "cell_type": "code",
      "metadata": {
        "id": "s8h7e8b0aNfO",
        "colab_type": "code",
        "colab": {}
      },
      "source": [
        "#defining loss and optimizer\n",
        "model = LinearReg(1,1)\n",
        "criteria = nn.MSELoss()\n",
        "optimizer = optim.SGD(model.parameters(), lr = 0.01)"
      ],
      "execution_count": 0,
      "outputs": []
    },
    {
      "cell_type": "code",
      "metadata": {
        "id": "-KoFuWb2cHFf",
        "colab_type": "code",
        "colab": {}
      },
      "source": [
        "#training\n",
        "for epoch in range(500):\n",
        "  y_pred = model(x)\n",
        "  loss = criteria(y_pred,y)\n",
        "  optimizer.zero_grad()\n",
        "  loss.backward()\n",
        "  optimizer.step()\n",
        "  print(epoch, float(loss.data[0]))"
      ],
      "execution_count": 0,
      "outputs": []
    },
    {
      "cell_type": "code",
      "metadata": {
        "id": "hNk7Lej1c17_",
        "colab_type": "code",
        "colab": {}
      },
      "source": [
        "#testing\n",
        "test = Variable(torch.Tensor([[20]]))\n",
        "model.forward(test)\n",
        "z = model.forward(test)\n",
        "print(float(z.data[0])"
      ],
      "execution_count": 0,
      "outputs": []
    }
  ]
}