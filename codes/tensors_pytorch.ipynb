{
  "nbformat": 4,
  "nbformat_minor": 0,
  "metadata": {
    "colab": {
      "name": "tensors_pytorch",
      "version": "0.3.2",
      "provenance": [],
      "collapsed_sections": []
    },
    "kernelspec": {
      "name": "python3",
      "display_name": "Python 3"
    },
    "accelerator": "GPU"
  },
  "cells": [
    {
      "cell_type": "code",
      "metadata": {
        "id": "0KM3vhs6-MW8",
        "colab_type": "code",
        "colab": {}
      },
      "source": [
        "# http://pytorch.org/\n",
        "from os import path\n",
        "from wheel.pep425tags import get_abbr_impl, get_impl_ver, get_abi_tag\n",
        "platform = '{}{}-{}'.format(get_abbr_impl(), get_impl_ver(), get_abi_tag())\n",
        "\n",
        "accelerator = 'cu80' if path.exists('/opt/bin/nvidia-smi') else 'cpu'\n",
        "\n",
        "!pip install -q http://download.pytorch.org/whl/{accelerator}/torch-0.3.0.post4-{platform}-linux_x86_64.whl torchvision\n",
        "import torch"
      ],
      "execution_count": 0,
      "outputs": []
    },
    {
      "cell_type": "code",
      "metadata": {
        "id": "CijxpCMv-OvJ",
        "colab_type": "code",
        "colab": {}
      },
      "source": [
        "import torch.tensor"
      ],
      "execution_count": 0,
      "outputs": []
    },
    {
      "cell_type": "code",
      "metadata": {
        "id": "mpAVHgHR_Vt4",
        "colab_type": "code",
        "outputId": "7944991c-02e4-44d2-fe79-0cd29d44fe08",
        "colab": {
          "base_uri": "https://localhost:8080/",
          "height": 104
        }
      },
      "source": [
        "#Create a (2x3) dimensional Tensor\n",
        "t = torch.Tensor(2, 3)\n",
        "print(t)"
      ],
      "execution_count": 0,
      "outputs": [
        {
          "output_type": "stream",
          "text": [
            "\n",
            " 1.5690e-36  0.0000e+00  0.0000e+00\n",
            " 2.7944e+20  1.6847e+16  1.1022e+24\n",
            "[torch.FloatTensor of size 2x3]\n",
            "\n"
          ],
          "name": "stdout"
        }
      ]
    },
    {
      "cell_type": "code",
      "metadata": {
        "id": "cdOsvVIv_dD5",
        "colab_type": "code",
        "outputId": "a2930673-fe81-4370-cf45-fd5738ae15be",
        "colab": {
          "base_uri": "https://localhost:8080/",
          "height": 121
        }
      },
      "source": [
        "#The above result is equivalent to the below result as torch.Tensor \n",
        "#is an alias for the default tensor type (torch.FloatTensor)\n",
        "t = torch.FloatTensor(2, 3)\n",
        "print(t)"
      ],
      "execution_count": 0,
      "outputs": [
        {
          "output_type": "stream",
          "text": [
            "\n",
            "1.00000e-36 *\n",
            "  1.2775  0.0000  0.0000\n",
            "  0.0000  0.0000  0.0000\n",
            "[torch.FloatTensor of size 2x3]\n",
            "\n"
          ],
          "name": "stdout"
        }
      ]
    },
    {
      "cell_type": "code",
      "metadata": {
        "id": "Onv-OF1n_1_u",
        "colab_type": "code",
        "outputId": "454d7dc5-97ac-4edc-a6d4-b91a1462612a",
        "colab": {
          "base_uri": "https://localhost:8080/",
          "height": 35
        }
      },
      "source": [
        "#Inspecting type of a tensor\n",
        "t[0][0]\n",
        "type(t[0][0])"
      ],
      "execution_count": 0,
      "outputs": [
        {
          "output_type": "execute_result",
          "data": {
            "text/plain": [
              "float"
            ]
          },
          "metadata": {
            "tags": []
          },
          "execution_count": 7
        }
      ]
    },
    {
      "cell_type": "code",
      "metadata": {
        "id": "u5shrOYkARzZ",
        "colab_type": "code",
        "outputId": "bd4ac8c5-10ab-4699-afdd-a9d92eebbca9",
        "colab": {
          "base_uri": "https://localhost:8080/",
          "height": 69
        }
      },
      "source": [
        "#Inspecting the dimension of the above tensor\n",
        "print(t.size())\n",
        "print(t.dim())\n",
        "print(len(t.size()) == t.dim())"
      ],
      "execution_count": 0,
      "outputs": [
        {
          "output_type": "stream",
          "text": [
            "torch.Size([2, 3])\n",
            "2\n",
            "True\n"
          ],
          "name": "stdout"
        }
      ]
    },
    {
      "cell_type": "code",
      "metadata": {
        "id": "FPlmsaAtAmjK",
        "colab_type": "code",
        "outputId": "b37683bd-70ed-4b24-e6ec-4e54e397af94",
        "colab": {
          "base_uri": "https://localhost:8080/",
          "height": 104
        }
      },
      "source": [
        "#setting values to form matrix\n",
        "t[0][0] = 1\n",
        "t[0][1] = 2\n",
        "t[0][2] = 3\n",
        "t[1][0] = 4\n",
        "t[1][1] = 5\n",
        "t[1][2] = 6\n",
        "print(t)"
      ],
      "execution_count": 0,
      "outputs": [
        {
          "output_type": "stream",
          "text": [
            "\n",
            " 1  2  3\n",
            " 4  5  6\n",
            "[torch.FloatTensor of size 2x3]\n",
            "\n"
          ],
          "name": "stdout"
        }
      ]
    },
    {
      "cell_type": "code",
      "metadata": {
        "id": "XXwAw4fnA0Z7",
        "colab_type": "code",
        "outputId": "d787d4c2-f735-48c7-acfc-6430dc904e8c",
        "colab": {
          "base_uri": "https://localhost:8080/",
          "height": 173
        }
      },
      "source": [
        "#Typecasting Float Tensor to Integer Tensor\n",
        "t = torch.FloatTensor([1.1, 2.2])\n",
        "print(t)\n",
        "t.type(torch.IntTensor)"
      ],
      "execution_count": 0,
      "outputs": [
        {
          "output_type": "stream",
          "text": [
            "\n",
            " 1.1000\n",
            " 2.2000\n",
            "[torch.FloatTensor of size 2]\n",
            "\n"
          ],
          "name": "stdout"
        },
        {
          "output_type": "execute_result",
          "data": {
            "text/plain": [
              "\n",
              " 1\n",
              " 2\n",
              "[torch.IntTensor of size 2]"
            ]
          },
          "metadata": {
            "tags": []
          },
          "execution_count": 10
        }
      ]
    },
    {
      "cell_type": "code",
      "metadata": {
        "id": "lRhSz-FuBCZB",
        "colab_type": "code",
        "outputId": "79516aa5-284e-4718-bca9-72b7c444289b",
        "colab": {
          "base_uri": "https://localhost:8080/",
          "height": 104
        }
      },
      "source": [
        "#Creating Tensor from another tensor\n",
        "t_2 = torch.Tensor(t)\n",
        "print(t_2)"
      ],
      "execution_count": 0,
      "outputs": [
        {
          "output_type": "stream",
          "text": [
            "\n",
            " 1.1000\n",
            " 2.2000\n",
            "[torch.FloatTensor of size 2]\n",
            "\n"
          ],
          "name": "stdout"
        }
      ]
    },
    {
      "cell_type": "code",
      "metadata": {
        "id": "v-BaZp0RBPXw",
        "colab_type": "code",
        "outputId": "dba8aa88-6df0-4890-838b-45f3358432d0",
        "colab": {
          "base_uri": "https://localhost:8080/",
          "height": 104
        }
      },
      "source": [
        "#Creating a tensor from a python list \n",
        "t_3 = torch.IntTensor([[1, 2],[3, 4]])\n",
        "print(t_3)"
      ],
      "execution_count": 0,
      "outputs": [
        {
          "output_type": "stream",
          "text": [
            "\n",
            " 1  2\n",
            " 3  4\n",
            "[torch.IntTensor of size 2x2]\n",
            "\n"
          ],
          "name": "stdout"
        }
      ]
    },
    {
      "cell_type": "code",
      "metadata": {
        "id": "tVFdrF2BBcmy",
        "colab_type": "code",
        "outputId": "de4a7ddc-53ec-48f0-e673-075d94555c8c",
        "colab": {
          "base_uri": "https://localhost:8080/",
          "height": 104
        }
      },
      "source": [
        "#Creating a tensor from numpy array\n",
        "import numpy as np\n",
        "a = np.array([55, 66])\n",
        "t_4 = torch.Tensor(a)\n",
        "print(t_4)"
      ],
      "execution_count": 0,
      "outputs": [
        {
          "output_type": "stream",
          "text": [
            "\n",
            " 55\n",
            " 66\n",
            "[torch.FloatTensor of size 2]\n",
            "\n"
          ],
          "name": "stdout"
        }
      ]
    },
    {
      "cell_type": "code",
      "metadata": {
        "id": "2cJGBOkEBnLD",
        "colab_type": "code",
        "outputId": "2ad65ef7-a723-4cd3-b327-306facfefcbc",
        "colab": {
          "base_uri": "https://localhost:8080/",
          "height": 104
        }
      },
      "source": [
        "#Creating a Tensor with all zeros\n",
        "t_5 = torch.zeros(2, 3)\n",
        "print(t_5)"
      ],
      "execution_count": 0,
      "outputs": [
        {
          "output_type": "stream",
          "text": [
            "\n",
            " 0  0  0\n",
            " 0  0  0\n",
            "[torch.FloatTensor of size 2x3]\n",
            "\n"
          ],
          "name": "stdout"
        }
      ]
    },
    {
      "cell_type": "code",
      "metadata": {
        "id": "haqqbxAqBuao",
        "colab_type": "code",
        "outputId": "0937c18d-f2b9-4cc6-c25c-e7811cc45d04",
        "colab": {
          "base_uri": "https://localhost:8080/",
          "height": 104
        }
      },
      "source": [
        "#Creating a Tensor with all ones\n",
        "t_6 = torch.ones(2, 3)\n",
        "print(t_6)"
      ],
      "execution_count": 0,
      "outputs": [
        {
          "output_type": "stream",
          "text": [
            "\n",
            " 1  1  1\n",
            " 1  1  1\n",
            "[torch.FloatTensor of size 2x3]\n",
            "\n"
          ],
          "name": "stdout"
        }
      ]
    },
    {
      "cell_type": "code",
      "metadata": {
        "id": "dWxx9sPlB2ji",
        "colab_type": "code",
        "outputId": "cf27e082-99cf-4f8f-856b-fcfd23370478",
        "colab": {
          "base_uri": "https://localhost:8080/",
          "height": 104
        }
      },
      "source": [
        "# Create a Tensor with all ones with dimensions of another Tensor\n",
        "t_7 = torch.ones_like(t4)\n",
        "print(t_7)"
      ],
      "execution_count": 0,
      "outputs": [
        {
          "output_type": "stream",
          "text": [
            "\n",
            " 1\n",
            " 1\n",
            "[torch.FloatTensor of size 2]\n",
            "\n"
          ],
          "name": "stdout"
        }
      ]
    },
    {
      "cell_type": "markdown",
      "metadata": {
        "id": "UXXthpdXB-lb",
        "colab_type": "text"
      },
      "source": [
        "***Tensor operations***"
      ]
    },
    {
      "cell_type": "code",
      "metadata": {
        "id": "QS-8YBrwB_zi",
        "colab_type": "code",
        "outputId": "2f1c3aaa-f589-4aea-a890-b06974c07426",
        "colab": {
          "base_uri": "https://localhost:8080/",
          "height": 104
        }
      },
      "source": [
        "#Adding two Tensors\n",
        "t1 = torch.ones(2, 2)\n",
        "t2 = torch.ones(2, 2)\n",
        "t = t1 + t2\n",
        "print(t)"
      ],
      "execution_count": 0,
      "outputs": [
        {
          "output_type": "stream",
          "text": [
            "\n",
            " 2  2\n",
            " 2  2\n",
            "[torch.FloatTensor of size 2x2]\n",
            "\n"
          ],
          "name": "stdout"
        }
      ]
    },
    {
      "cell_type": "code",
      "metadata": {
        "id": "jwRqP-7BCTsK",
        "colab_type": "code",
        "outputId": "2d65e0d4-fff1-45b0-af62-3447954fc02d",
        "colab": {
          "base_uri": "https://localhost:8080/",
          "height": 104
        }
      },
      "source": [
        "#Inplace/out-of-place operations\n",
        "t1.add(t2)\n",
        "print(t1)"
      ],
      "execution_count": 0,
      "outputs": [
        {
          "output_type": "stream",
          "text": [
            "\n",
            " 1  1\n",
            " 1  1\n",
            "[torch.FloatTensor of size 2x2]\n",
            "\n"
          ],
          "name": "stdout"
        }
      ]
    },
    {
      "cell_type": "code",
      "metadata": {
        "id": "I_hM57q6Ca55",
        "colab_type": "code",
        "outputId": "1284aa55-748d-4687-bf9d-5122c215d574",
        "colab": {
          "base_uri": "https://localhost:8080/",
          "height": 104
        }
      },
      "source": [
        "t1.add_(t2)\n",
        "print(t1)"
      ],
      "execution_count": 0,
      "outputs": [
        {
          "output_type": "stream",
          "text": [
            "\n",
            " 2  2\n",
            " 2  2\n",
            "[torch.FloatTensor of size 2x2]\n",
            "\n"
          ],
          "name": "stdout"
        }
      ]
    },
    {
      "cell_type": "code",
      "metadata": {
        "id": "0APqXt6ICexu",
        "colab_type": "code",
        "outputId": "920eada8-761d-4b0c-9a30-f2d5be3cfa3d",
        "colab": {
          "base_uri": "https://localhost:8080/",
          "height": 87
        }
      },
      "source": [
        "# Class methods and package functions\n",
        "t1.cos()\n",
        "torch.cos(t1)"
      ],
      "execution_count": 0,
      "outputs": [
        {
          "output_type": "execute_result",
          "data": {
            "text/plain": [
              "\n",
              "-0.4161 -0.4161\n",
              "-0.4161 -0.4161\n",
              "[torch.FloatTensor of size 2x2]"
            ]
          },
          "metadata": {
            "tags": []
          },
          "execution_count": 21
        }
      ]
    },
    {
      "cell_type": "code",
      "metadata": {
        "id": "bB83FqMoCnDb",
        "colab_type": "code",
        "outputId": "f55cd714-4293-463a-aa5a-3186c14a5a23",
        "colab": {
          "base_uri": "https://localhost:8080/",
          "height": 139
        }
      },
      "source": [
        "#Creating a one-dimensional tensor of steps equally \n",
        "#spaced points between start and end\n",
        "torch.linspace(3, 10, steps=5)"
      ],
      "execution_count": 0,
      "outputs": [
        {
          "output_type": "execute_result",
          "data": {
            "text/plain": [
              "\n",
              "  3.0000\n",
              "  4.7500\n",
              "  6.5000\n",
              "  8.2500\n",
              " 10.0000\n",
              "[torch.FloatTensor of size 5]"
            ]
          },
          "metadata": {
            "tags": []
          },
          "execution_count": 22
        }
      ]
    },
    {
      "cell_type": "code",
      "metadata": {
        "id": "oQBDs_WrCsn4",
        "colab_type": "code",
        "outputId": "cdfeef57-6dd3-4513-d35b-425792d1b7b9",
        "colab": {
          "base_uri": "https://localhost:8080/",
          "height": 139
        }
      },
      "source": [
        "#Creating a 1-D Tensor with values from [start, end)\n",
        "torch.arange(0, 5)"
      ],
      "execution_count": 0,
      "outputs": [
        {
          "output_type": "execute_result",
          "data": {
            "text/plain": [
              "\n",
              " 0\n",
              " 1\n",
              " 2\n",
              " 3\n",
              " 4\n",
              "[torch.FloatTensor of size 5]"
            ]
          },
          "metadata": {
            "tags": []
          },
          "execution_count": 23
        }
      ]
    },
    {
      "cell_type": "code",
      "metadata": {
        "id": "FM55qBE3C1rM",
        "colab_type": "code",
        "outputId": "dd566c03-08cb-48a3-9666-0511a892e905",
        "colab": {
          "base_uri": "https://localhost:8080/",
          "height": 87
        }
      },
      "source": [
        "#Creating a (2x3) Tensor with random values sampled \n",
        "#from uniform distribution on the interval [0,1)\n",
        "torch.rand((2,3))"
      ],
      "execution_count": 0,
      "outputs": [
        {
          "output_type": "execute_result",
          "data": {
            "text/plain": [
              "\n",
              " 0.6569  0.0119  0.2249\n",
              " 0.7546  0.6350  0.5000\n",
              "[torch.FloatTensor of size 2x3]"
            ]
          },
          "metadata": {
            "tags": []
          },
          "execution_count": 24
        }
      ]
    },
    {
      "cell_type": "code",
      "metadata": {
        "id": "2KFOllaBC8Ny",
        "colab_type": "code",
        "outputId": "3fab5fd4-19d1-4c56-e5f7-c458e82314c4",
        "colab": {
          "base_uri": "https://localhost:8080/",
          "height": 87
        }
      },
      "source": [
        "#Creating a (2x3) Tensor with random values sampled \n",
        "#from normal distribution with 0 mean and variance 1\n",
        "torch.randn((2,3))"
      ],
      "execution_count": 0,
      "outputs": [
        {
          "output_type": "execute_result",
          "data": {
            "text/plain": [
              "\n",
              "-0.2330 -0.1847 -0.5594\n",
              " 1.0326  0.3660 -1.1574\n",
              "[torch.FloatTensor of size 2x3]"
            ]
          },
          "metadata": {
            "tags": []
          },
          "execution_count": 25
        }
      ]
    },
    {
      "cell_type": "code",
      "metadata": {
        "id": "_80qvspXDEy7",
        "colab_type": "code",
        "outputId": "2c06c527-91ff-49ea-8e14-f86b44401228",
        "colab": {
          "base_uri": "https://localhost:8080/",
          "height": 87
        }
      },
      "source": [
        "#Matrix multiplication\n",
        "a = torch.rand((2, 3))\n",
        "b = torch.rand((3, 2))\n",
        "torch.mm(a, b)"
      ],
      "execution_count": 0,
      "outputs": [
        {
          "output_type": "execute_result",
          "data": {
            "text/plain": [
              "\n",
              " 0.1085  0.0797\n",
              " 0.2590  0.1903\n",
              "[torch.FloatTensor of size 2x2]"
            ]
          },
          "metadata": {
            "tags": []
          },
          "execution_count": 26
        }
      ]
    }
  ]
}