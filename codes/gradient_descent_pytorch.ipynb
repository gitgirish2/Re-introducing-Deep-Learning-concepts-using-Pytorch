{
  "nbformat": 4,
  "nbformat_minor": 0,
  "metadata": {
    "colab": {
      "name": "gradient_descent_pytorch",
      "version": "0.3.2",
      "provenance": [],
      "collapsed_sections": []
    },
    "kernelspec": {
      "name": "python3",
      "display_name": "Python 3"
    },
    "accelerator": "TPU"
  },
  "cells": [
    {
      "cell_type": "code",
      "metadata": {
        "id": "h_vl7WKfGzxc",
        "colab_type": "code",
        "colab": {}
      },
      "source": [
        "# http://pytorch.org/\n",
        "from os import path\n",
        "from wheel.pep425tags import get_abbr_impl, get_impl_ver, get_abi_tag\n",
        "platform = '{}{}-{}'.format(get_abbr_impl(), get_impl_ver(), get_abi_tag())\n",
        "\n",
        "accelerator = 'cu80' if path.exists('/opt/bin/nvidia-smi') else 'cpu'\n",
        "\n",
        "!pip install -q http://download.pytorch.org/whl/{accelerator}/torch-0.3.0.post4-{platform}-linux_x86_64.whl torchvision\n",
        "import torch"
      ],
      "execution_count": 0,
      "outputs": []
    },
    {
      "cell_type": "code",
      "metadata": {
        "id": "jqt61GO2H3F7",
        "colab_type": "code",
        "colab": {}
      },
      "source": [
        "import torch"
      ],
      "execution_count": 0,
      "outputs": []
    },
    {
      "cell_type": "code",
      "metadata": {
        "id": "NiGwVAvKH7Rn",
        "colab_type": "code",
        "colab": {}
      },
      "source": [
        "#Assigning values to Tensors\n",
        "x_data = [1.0, 2.0, 3.0]\n",
        "y_data = [2.0, 4.0, 6.0]"
      ],
      "execution_count": 0,
      "outputs": []
    },
    {
      "cell_type": "code",
      "metadata": {
        "id": "kR7hbYQPIFg9",
        "colab_type": "code",
        "colab": {}
      },
      "source": [
        "#considering random weight value\n",
        "w = 1.0"
      ],
      "execution_count": 0,
      "outputs": []
    },
    {
      "cell_type": "code",
      "metadata": {
        "id": "-FPw3cEsIZCm",
        "colab_type": "code",
        "colab": {}
      },
      "source": [
        "#forward pass\n",
        "def forward(x):\n",
        "    return x * w"
      ],
      "execution_count": 0,
      "outputs": []
    },
    {
      "cell_type": "code",
      "metadata": {
        "id": "ZLB1RR8TIevv",
        "colab_type": "code",
        "colab": {}
      },
      "source": [
        "#defining loss function\n",
        "def loss(x, y):\n",
        "    y_pred = forward(x)\n",
        "    return (y_pred - y) * (y_pred - y)"
      ],
      "execution_count": 0,
      "outputs": []
    },
    {
      "cell_type": "code",
      "metadata": {
        "id": "JPvUOPq4I4ag",
        "colab_type": "code",
        "colab": {}
      },
      "source": [
        "#gradient calculation\n",
        "#based on your loss function *given value of x and y, let's say that we have \n",
        "#obtained a gradient of 2x(xw-y). Therefore, defining gradient dloss/dw\n",
        "def gradient(x, y):  \n",
        "    return 2 * x * (x * w - y)"
      ],
      "execution_count": 0,
      "outputs": []
    },
    {
      "cell_type": "code",
      "metadata": {
        "id": "uDqud0g9L-Zx",
        "colab_type": "code",
        "outputId": "7bfa1a61-aebf-400d-e0d9-def3fae59a83",
        "colab": {
          "base_uri": "https://localhost:8080/",
          "height": 35
        }
      },
      "source": [
        "# Testing our model before training\n",
        "print(\"predict (before training)\",  4, forward(4))"
      ],
      "execution_count": 0,
      "outputs": [
        {
          "output_type": "stream",
          "text": [
            "predict (before training) 4 4.0\n"
          ],
          "name": "stdout"
        }
      ]
    },
    {
      "cell_type": "code",
      "metadata": {
        "id": "t_x1Zmq4MVMk",
        "colab_type": "code",
        "outputId": "fd118be3-9f9c-4112-a8fb-375b1b6c29cd",
        "colab": {
          "base_uri": "https://localhost:8080/",
          "height": 711
        }
      },
      "source": [
        "# Training\n",
        "for epoch in range(10):\n",
        "    for x_val, y_val in zip(x_data, y_data):\n",
        "        grad = gradient(x_val, y_val)\n",
        "        w = w - 0.01 * grad  #updated weight; learning rate = 0.01\n",
        "        print(\"grad: \", x_val, y_val, round(grad, 2))\n",
        "        l = loss(x_val, y_val)\n",
        "\n",
        "    print(\"progress:\", epoch, \"w=\", round(w, 2), \"loss=\", round(l, 2))"
      ],
      "execution_count": 0,
      "outputs": [
        {
          "output_type": "stream",
          "text": [
            "grad:  1.0 2.0 -2.0\n",
            "grad:  2.0 4.0 -7.84\n",
            "grad:  3.0 6.0 -16.23\n",
            "progress: 0 w= 1.26 loss= 4.92\n",
            "grad:  1.0 2.0 -1.48\n",
            "grad:  2.0 4.0 -5.8\n",
            "grad:  3.0 6.0 -12.0\n",
            "progress: 1 w= 1.45 loss= 2.69\n",
            "grad:  1.0 2.0 -1.09\n",
            "grad:  2.0 4.0 -4.29\n",
            "grad:  3.0 6.0 -8.87\n",
            "progress: 2 w= 1.6 loss= 1.47\n",
            "grad:  1.0 2.0 -0.81\n",
            "grad:  2.0 4.0 -3.17\n",
            "grad:  3.0 6.0 -6.56\n",
            "progress: 3 w= 1.7 loss= 0.8\n",
            "grad:  1.0 2.0 -0.6\n",
            "grad:  2.0 4.0 -2.34\n",
            "grad:  3.0 6.0 -4.85\n",
            "progress: 4 w= 1.78 loss= 0.44\n",
            "grad:  1.0 2.0 -0.44\n",
            "grad:  2.0 4.0 -1.73\n",
            "grad:  3.0 6.0 -3.58\n",
            "progress: 5 w= 1.84 loss= 0.24\n",
            "grad:  1.0 2.0 -0.33\n",
            "grad:  2.0 4.0 -1.28\n",
            "grad:  3.0 6.0 -2.65\n",
            "progress: 6 w= 1.88 loss= 0.13\n",
            "grad:  1.0 2.0 -0.24\n",
            "grad:  2.0 4.0 -0.95\n",
            "grad:  3.0 6.0 -1.96\n",
            "progress: 7 w= 1.91 loss= 0.07\n",
            "grad:  1.0 2.0 -0.18\n",
            "grad:  2.0 4.0 -0.7\n",
            "grad:  3.0 6.0 -1.45\n",
            "progress: 8 w= 1.93 loss= 0.04\n",
            "grad:  1.0 2.0 -0.13\n",
            "grad:  2.0 4.0 -0.52\n",
            "grad:  3.0 6.0 -1.07\n",
            "progress: 9 w= 1.95 loss= 0.02\n"
          ],
          "name": "stdout"
        }
      ]
    },
    {
      "cell_type": "code",
      "metadata": {
        "id": "-Na8TSACMpR9",
        "colab_type": "code",
        "outputId": "0a439056-3273-461e-aba8-2fc86cada28c",
        "colab": {
          "base_uri": "https://localhost:8080/",
          "height": 35
        }
      },
      "source": [
        "#Testing our result after training\n",
        "print(\"predict (after training)\",  \"4 hours\", forward(4))"
      ],
      "execution_count": 0,
      "outputs": [
        {
          "output_type": "stream",
          "text": [
            "predict (after training) 4 hours 7.804863933862125\n"
          ],
          "name": "stdout"
        }
      ]
    }
  ]
}