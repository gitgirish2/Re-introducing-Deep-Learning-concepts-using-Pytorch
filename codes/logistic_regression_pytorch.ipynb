{
  "nbformat": 4,
  "nbformat_minor": 0,
  "metadata": {
    "colab": {
      "name": "logistic_regression_pytorch",
      "version": "0.3.2",
      "provenance": [],
      "collapsed_sections": []
    },
    "kernelspec": {
      "name": "python3",
      "display_name": "Python 3"
    }
  },
  "cells": [
    {
      "cell_type": "code",
      "metadata": {
        "id": "sWdWE7hSeGGT",
        "colab_type": "code",
        "colab": {}
      },
      "source": [
        "# http://pytorch.org/\n",
        "from os import path\n",
        "from wheel.pep425tags import get_abbr_impl, get_impl_ver, get_abi_tag\n",
        "platform = '{}{}-{}'.format(get_abbr_impl(), get_impl_ver(), get_abi_tag())\n",
        "\n",
        "accelerator = 'cu80' if path.exists('/opt/bin/nvidia-smi') else 'cpu'\n",
        "\n",
        "!pip install -q http://download.pytorch.org/whl/{accelerator}/torch-0.3.0.post4-{platform}-linux_x86_64.whl torchvision\n",
        "import torch"
      ],
      "execution_count": 0,
      "outputs": []
    },
    {
      "cell_type": "code",
      "metadata": {
        "id": "Hoe9v-4jeIGR",
        "colab_type": "code",
        "colab": {}
      },
      "source": [
        "import torch\n",
        "from torch.autograd import Variable\n",
        "import torch.nn as nn\n",
        "import torch.optim as optim\n",
        "import torch.nn.functional as f"
      ],
      "execution_count": 0,
      "outputs": []
    },
    {
      "cell_type": "code",
      "metadata": {
        "id": "GbezQqSTeLHu",
        "colab_type": "code",
        "colab": {}
      },
      "source": [
        "#creating data\n",
        "x = Variable(torch.Tensor([[22],[16],[44],[74]]))\n",
        "y = Variable(torch.Tensor([[0],[0],[1],[1]]))"
      ],
      "execution_count": 0,
      "outputs": []
    },
    {
      "cell_type": "code",
      "metadata": {
        "id": "TvpvwRjueMHQ",
        "colab_type": "code",
        "colab": {}
      },
      "source": [
        "#creating the model class\n",
        "class LogisticReg(nn.Module):\n",
        "  def __init__(self, input_size, output_size):\n",
        "    super(LogisticReg, self).__init__()\n",
        "    self.logistic = nn.Linear(input_size, output_size)"
      ],
      "execution_count": 0,
      "outputs": []
    },
    {
      "cell_type": "code",
      "metadata": {
        "id": "KGlKj6C4ePpv",
        "colab_type": "code",
        "colab": {}
      },
      "source": [
        "#defining forward pass\n",
        "def forward(self, x):\n",
        "  y_pred = f.sigmoid(self.linear(x))\n",
        "  return y_pred"
      ],
      "execution_count": 0,
      "outputs": []
    },
    {
      "cell_type": "code",
      "metadata": {
        "id": "RlRanx1aeSTR",
        "colab_type": "code",
        "colab": {}
      },
      "source": [
        "#defining loss and optimizer\n",
        "model = LogisticReg(1,1)\n",
        "criteria = nn.BCELoss()\n",
        "optimizer = optim.SGD(model.parameters(), lr = 0.01)"
      ],
      "execution_count": 0,
      "outputs": []
    },
    {
      "cell_type": "code",
      "metadata": {
        "id": "9uXK1RXDeUTJ",
        "colab_type": "code",
        "colab": {}
      },
      "source": [
        "#training\n",
        "for epoch in range(500):\n",
        "  y_pred = model(x)\n",
        "  loss = criteria(y_pred,y)\n",
        "  optimizer.zero_grad()\n",
        "  loss.backward()\n",
        "  optimizer.step()\n",
        "  print(epoch, float(loss.data[0]))"
      ],
      "execution_count": 0,
      "outputs": []
    },
    {
      "cell_type": "code",
      "metadata": {
        "id": "_ujCTyiAeV9t",
        "colab_type": "code",
        "colab": {}
      },
      "source": [
        "#testing\n",
        "test = Variable(torch.Tensor([[20]]))\n",
        "model.forward(test)\n",
        "z = model.forward(test)\n",
        "print(float(z.data[0])"
      ],
      "execution_count": 0,
      "outputs": []
    }
  ]
}