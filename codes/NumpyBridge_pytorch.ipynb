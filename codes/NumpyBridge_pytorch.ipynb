{
  "nbformat": 4,
  "nbformat_minor": 0,
  "metadata": {
    "colab": {
      "name": "NumpyBridge_pytorch",
      "version": "0.3.2",
      "provenance": [],
      "collapsed_sections": []
    },
    "kernelspec": {
      "name": "python3",
      "display_name": "Python 3"
    }
  },
  "cells": [
    {
      "cell_type": "code",
      "metadata": {
        "id": "XDZcA41YE5F4",
        "colab_type": "code",
        "colab": {}
      },
      "source": [
        "# http://pytorch.org/\n",
        "from os import path\n",
        "from wheel.pep425tags import get_abbr_impl, get_impl_ver, get_abi_tag\n",
        "platform = '{}{}-{}'.format(get_abbr_impl(), get_impl_ver(), get_abi_tag())\n",
        "\n",
        "accelerator = 'cu80' if path.exists('/opt/bin/nvidia-smi') else 'cpu'\n",
        "\n",
        "!pip install -q http://download.pytorch.org/whl/{accelerator}/torch-0.3.0.post4-{platform}-linux_x86_64.whl torchvision\n",
        "import torch"
      ],
      "execution_count": 0,
      "outputs": []
    },
    {
      "cell_type": "code",
      "metadata": {
        "id": "1Cb2wOOxE9Sz",
        "colab_type": "code",
        "colab": {}
      },
      "source": [
        "import torch.tensor"
      ],
      "execution_count": 0,
      "outputs": []
    },
    {
      "cell_type": "code",
      "metadata": {
        "id": "P7S0ZIDuEbAG",
        "colab_type": "code",
        "outputId": "b8127898-6993-4e2b-8010-ab2c70f5927b",
        "colab": {
          "base_uri": "https://localhost:8080/",
          "height": 139
        }
      },
      "source": [
        "#Creating a torch tensor\n",
        "x = torch.ones(4)\n",
        "print(x)"
      ],
      "execution_count": 0,
      "outputs": [
        {
          "output_type": "stream",
          "text": [
            "\n",
            " 1\n",
            " 1\n",
            " 1\n",
            " 1\n",
            "[torch.FloatTensor of size 4]\n",
            "\n"
          ],
          "name": "stdout"
        }
      ]
    },
    {
      "cell_type": "code",
      "metadata": {
        "id": "ap1WgteKFB1C",
        "colab_type": "code",
        "outputId": "deca22d5-e206-4a9a-8c6f-cbe5c6b8df82",
        "colab": {
          "base_uri": "https://localhost:8080/",
          "height": 35
        }
      },
      "source": [
        "#Converting to numpy\n",
        "y = x.numpy()\n",
        "print(y)"
      ],
      "execution_count": 0,
      "outputs": [
        {
          "output_type": "stream",
          "text": [
            "[1. 1. 1. 1.]\n"
          ],
          "name": "stdout"
        }
      ]
    },
    {
      "cell_type": "code",
      "metadata": {
        "id": "l0J8zA6OFYfH",
        "colab_type": "code",
        "outputId": "3713bfe8-8198-4213-f92e-e25a9c724d33",
        "colab": {
          "base_uri": "https://localhost:8080/",
          "height": 156
        }
      },
      "source": [
        "#making change to the tensor and checking the numpy array\n",
        "x.add_(1)\n",
        "print(x)\n",
        "print(y)"
      ],
      "execution_count": 0,
      "outputs": [
        {
          "output_type": "stream",
          "text": [
            "\n",
            " 2\n",
            " 2\n",
            " 2\n",
            " 2\n",
            "[torch.FloatTensor of size 4]\n",
            "\n",
            "[2. 2. 2. 2.]\n"
          ],
          "name": "stdout"
        }
      ]
    },
    {
      "cell_type": "markdown",
      "metadata": {
        "id": "Nkojp686Fs2K",
        "colab_type": "text"
      },
      "source": [
        "We have added 1 to each of the initially defined tensor value and we could see that the changes has been well reflected in the numpy array. Now, we will see the exact opposite operation that is - converting numpy array to tensor and making changes to it. "
      ]
    },
    {
      "cell_type": "code",
      "metadata": {
        "id": "F_Gf0tfqF9tP",
        "colab_type": "code",
        "outputId": "62b30c33-7778-4761-8022-5b7dd09aaba2",
        "colab": {
          "base_uri": "https://localhost:8080/",
          "height": 35
        }
      },
      "source": [
        "#Creating a numpy array\n",
        "import numpy as np\n",
        "a = np.ones(4)\n",
        "print(a)"
      ],
      "execution_count": 0,
      "outputs": [
        {
          "output_type": "stream",
          "text": [
            "[1. 1. 1. 1.]\n"
          ],
          "name": "stdout"
        }
      ]
    },
    {
      "cell_type": "code",
      "metadata": {
        "id": "0_XSXWjpGqYa",
        "colab_type": "code",
        "outputId": "c233280a-6b9d-4f78-c4f3-e5e09edb1381",
        "colab": {
          "base_uri": "https://localhost:8080/",
          "height": 139
        }
      },
      "source": [
        "#Converting to tensor\n",
        "b = torch.from_numpy(a)\n",
        "print(b)"
      ],
      "execution_count": 0,
      "outputs": [
        {
          "output_type": "stream",
          "text": [
            "\n",
            " 1\n",
            " 1\n",
            " 1\n",
            " 1\n",
            "[torch.DoubleTensor of size 4]\n",
            "\n"
          ],
          "name": "stdout"
        }
      ]
    },
    {
      "cell_type": "code",
      "metadata": {
        "id": "ceg2Bx7FG7Vq",
        "colab_type": "code",
        "outputId": "4aba8654-7ed4-4b01-fc7d-98fe073c90c7",
        "colab": {
          "base_uri": "https://localhost:8080/",
          "height": 156
        }
      },
      "source": [
        "#making changes to the numpy array and checking the tensor\n",
        "np.add(a,1,out=a)\n",
        "print(a)\n",
        "print(b)"
      ],
      "execution_count": 0,
      "outputs": [
        {
          "output_type": "stream",
          "text": [
            "[2. 2. 2. 2.]\n",
            "\n",
            " 2\n",
            " 2\n",
            " 2\n",
            " 2\n",
            "[torch.DoubleTensor of size 4]\n",
            "\n"
          ],
          "name": "stdout"
        }
      ]
    },
    {
      "cell_type": "markdown",
      "metadata": {
        "id": "0rF04gtQHRK6",
        "colab_type": "text"
      },
      "source": [
        "So, we have added one to each of the values of the numpy array and the same has been reflected back. "
      ]
    }
  ]
}